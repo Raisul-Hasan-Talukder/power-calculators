{
  "nbformat": 4,
  "nbformat_minor": 0,
  "metadata": {
    "colab": {
      "provenance": [],
      "authorship_tag": "ABX9TyP50awc0xHK7LhIpqD+4+8F",
      "include_colab_link": true
    },
    "kernelspec": {
      "name": "python3",
      "display_name": "Python 3"
    },
    "language_info": {
      "name": "python"
    }
  },
  "cells": [
    {
      "cell_type": "markdown",
      "metadata": {
        "id": "view-in-github",
        "colab_type": "text"
      },
      "source": [
        "<a href=\"https://colab.research.google.com/github/Raisul-Hasan-Talukder/power-calculators/blob/main/power_calculator.ipynb\" target=\"_parent\"><img src=\"https://colab.research.google.com/assets/colab-badge.svg\" alt=\"Open In Colab\"/></a>"
      ]
    },
    {
      "cell_type": "code",
      "source": [
        "import math\n",
        "\n",
        "def calculate_power(V, I, PF):\n",
        "  if PF<0 or PF>1:\n",
        "    return \"Power Factor must be between 0 and 1.\"\n",
        "  else:\n",
        "    P = 1.73 * V * I * PF               #Real Power\n",
        "    angle = math.acos(PF)\n",
        "    Q = 1.73 * V * I * math.sin(angle)  #Reactive Power\n",
        "    S = 1.73 * V * I                    #Apparent Power\n",
        "    return f\"\"\"Real Power is: {P:.2f} Watts \\nand Reactive Power is: {Q:.2f} VAR \\nand Apparent Power is: {S:.2f} VA\"\"\"\n",
        "\n",
        "V = float(input(\"Enter Voltage (V): \"))\n",
        "I = float(input(\"Enter Current (A): \"))\n",
        "PF = float(input(\"Enter Power Factor (PF): \"))\n",
        "print(calculate_power(V, I, PF))"
      ],
      "metadata": {
        "colab": {
          "base_uri": "https://localhost:8080/"
        },
        "id": "hdh_YxSSIklQ",
        "outputId": "79edfa0b-398b-4027-ede8-3d7290645d46"
      },
      "execution_count": 95,
      "outputs": [
        {
          "output_type": "stream",
          "name": "stdout",
          "text": [
            "Enter Voltage (V): 10\n",
            "Enter Current (A): 5\n",
            "Enter Power Factor (PF): .9\n",
            "Real Power is: 77.85 Watts \n",
            "and Reactive Power is: 37.70 VAR \n",
            "and Apparent Power is: 86.50 VA\n"
          ]
        }
      ]
    },
    {
      "cell_type": "code",
      "source": [],
      "metadata": {
        "id": "CVe9DN5BgipM"
      },
      "execution_count": null,
      "outputs": []
    }
  ]
}