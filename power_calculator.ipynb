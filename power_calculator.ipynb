{
  "nbformat": 4,
  "nbformat_minor": 0,
  "metadata": {
    "colab": {
      "provenance": [],
      "authorship_tag": "ABX9TyNz7ExNL9G27SDNBOR1Irx4",
      "include_colab_link": true
    },
    "kernelspec": {
      "name": "python3",
      "display_name": "Python 3"
    },
    "language_info": {
      "name": "python"
    }
  },
  "cells": [
    {
      "cell_type": "markdown",
      "metadata": {
        "id": "view-in-github",
        "colab_type": "text"
      },
      "source": [
        "<a href=\"https://colab.research.google.com/github/Raisul-Hasan-Talukder/power-calculators/blob/main/power_calculator.ipynb\" target=\"_parent\"><img src=\"https://colab.research.google.com/assets/colab-badge.svg\" alt=\"Open In Colab\"/></a>"
      ]
    },
    {
      "cell_type": "code",
      "source": [
        "def calculate_power(V, I, PF):\n",
        "  if PF<0 or PF>1:\n",
        "    return \"Power Factor must be between 0 and 1.\"\n",
        "  else:\n",
        "    P = 1.73 * V * I * PF\n",
        "    return f\"Rated Power is: {P} watts\"\n",
        "\n",
        "V = float(input(\"Enter Voltage (V): \"))\n",
        "I = float(input(\"Enter Current (A): \"))\n",
        "PF = float(input(\"Enter Power Factor (PF): \"))\n",
        "print(calculate_power(V, I, PF))"
      ],
      "metadata": {
        "colab": {
          "base_uri": "https://localhost:8080/"
        },
        "id": "hdh_YxSSIklQ",
        "outputId": "56203de4-424b-4ab6-d503-20dde951b726"
      },
      "execution_count": 85,
      "outputs": [
        {
          "output_type": "stream",
          "name": "stdout",
          "text": [
            "Enter Voltage (V): 10\n",
            "Enter Current (A): 5\n",
            "Enter Power Factor (PF): 100\n",
            "Power Factor must be between 0 and 1.\n"
          ]
        }
      ]
    },
    {
      "cell_type": "code",
      "source": [],
      "metadata": {
        "id": "CVe9DN5BgipM"
      },
      "execution_count": null,
      "outputs": []
    }
  ]
}